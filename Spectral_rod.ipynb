{
 "cells": [
  {
   "cell_type": "markdown",
   "id": "529a653d-1e98-4c66-9401-b0ac3cef7e39",
   "metadata": {},
   "source": [
    "Convection-diffusion equation along a rod. Thelength is L and $0<x<L$. \n",
    "The ODE equation is\n",
    "\\begin{equation}\n",
    "- A k\\frac{d^2 T}{d x^2}+P \\beta (T-T_0)=0\n",
    "\\end{equation}\n",
    "Boundary conditions:\\\n",
    "$\\theta(0)=300$ and $d \\theta/dx(L)=0$ "
   ]
  },
  {
   "cell_type": "code",
   "execution_count": 203,
   "id": "088d231d-6a60-4097-a52c-570f211f2c33",
   "metadata": {},
   "outputs": [],
   "source": [
    "#Importing the packages\n",
    "import numpy as np\n",
    "import matplotlib.pyplot as plt\n",
    "import scipy.sparse as sp\n",
    "from numpy.polynomial import chebyshev as C"
   ]
  },
  {
   "cell_type": "code",
   "execution_count": 197,
   "id": "d0eaf41d-bf63-4290-ac49-6f5b210d20f7",
   "metadata": {},
   "outputs": [],
   "source": [
    "#We define the Chabyshev nodes from -1 to 1\n",
    "\n",
    "L=0.05\n",
    "A=np.pi*(0.02**2)/4*50\n",
    "M=100*np.pi*0.02\n",
    "m=M/A\n",
    "T0=300\n",
    "\n",
    "\n",
    "# Chebyshev nodes\n",
    "N=5\n",
    "xn=(np.cos(np.arange(0,N)/(N-1)*np.pi)) #*L/2)+L/2"
   ]
  },
  {
   "cell_type": "code",
   "execution_count": 36,
   "id": "0340acc5-1a16-458f-9082-785455e409cb",
   "metadata": {},
   "outputs": [
    {
     "data": {
      "text/plain": [
       "array([ 0.025     ,  0.02431807,  0.02229086,  0.01897369,  0.01445703,\n",
       "        0.00886408,  0.00234741, -0.00491523, -0.01272573, -0.02087103,\n",
       "       -0.02912897, -0.03727427, -0.04508477, -0.05234741, -0.05886408,\n",
       "       -0.06445703, -0.06897369, -0.07229086, -0.07431807, -0.075     ])"
      ]
     },
     "execution_count": 36,
     "metadata": {},
     "output_type": "execute_result"
    }
   ],
   "source": [
    "xn"
   ]
  },
  {
   "cell_type": "code",
   "execution_count": 198,
   "id": "416c5121-095d-4326-82eb-515b5685c4e6",
   "metadata": {},
   "outputs": [],
   "source": [
    "#We compute the matrix. NOTE that the matrix is filled\n",
    "c=np.array([1,2])\n",
    "D1=np.zeros((N,N))\n",
    "for i in range(0,N):\n",
    "    for j in range(0,N):\n",
    "        if i==0 or i==N-1:\n",
    "            II=1 \n",
    "        else:\n",
    "            II=0\n",
    "        if j==0 or j==N-1:\n",
    "            JJ=1 \n",
    "        else:\n",
    "            JJ=0\n",
    "        if i!=j:\n",
    "            D1[i,j]=(c[II]*(-1)**(i+j))/(c[JJ]*(xn[i]-xn[j]))\n",
    "        elif i==j and i!=0 and i!=N-1:\n",
    "            D1[i,j]=-xn[i]/(2*(1-xn[i]**2))\n",
    "        \n",
    "\n",
    "D1[0,0]=(2*(N-1)**2+1)/6\n",
    "D1[N-1,N-1]=-D1[0,0]\n",
    "\n",
    "D2=np.dot(D1,D1)"
   ]
  },
  {
   "cell_type": "code",
   "execution_count": 199,
   "id": "8cadcf49-29b0-4b4f-b730-ab326295db1d",
   "metadata": {},
   "outputs": [],
   "source": [
    "## We write the algebraic system to solve\n",
    "D=-4*A/L**2*D2+M*np.identity(N);\n",
    "\n",
    "D[-1,:]=np.append(np.zeros(N-1),1)\n",
    "D[0,:]=D1[0,:]\n",
    "\n",
    "f=M*20*L*np.ones(N,)\n",
    "f[-1]=300\n",
    "f[0]=0\n",
    "\n",
    "Tn=np.linalg.solve(D,f)"
   ]
  },
  {
   "cell_type": "code",
   "execution_count": 213,
   "id": "4e32ec6e-65f0-4f64-882d-f91cac4d1690",
   "metadata": {},
   "outputs": [
    {
     "data": {
      "text/plain": [
       "<function matplotlib.pyplot.show(close=None, block=None)>"
      ]
     },
     "execution_count": 213,
     "metadata": {},
     "output_type": "execute_result"
    },
    {
     "data": {
      "image/png": "[encoded data removed]",
      "text/plain": [
       "<Figure size 640x480 with 1 Axes>"
      ]
     },
     "metadata": {},
     "output_type": "display_data"
    }
   ],
   "source": [
    "#We plot the results\n",
    "xn=(np.cos(np.arange(0,N)/(N-1)*np.pi)) #*L/2)+L/2\n",
    "\n",
    "x=np.linspace(0,L,100)\n",
    "y=np.linspace(-1,1,100)\n",
    "\n",
    "Theta=T0*np.cosh(np.sqrt(m)*(L-x))/(np.cosh(np.sqrt(m)*L))\n",
    "\n",
    "coeff=C.chebfit(xn,Tn,N)\n",
    "\n",
    "TTn=np.zeros(100,)\n",
    "for j in range(0,N):\n",
    "    T=np.cos(j*np.arccos(y))\n",
    "    TTn=TTn+coeff[j]*T\n",
    "\n",
    "#To plot we firsly take the points of the mesh\n",
    "#plt.plot(xn,Tn,color='blue')\n",
    "plt.plot(x,TTn)\n",
    "plt.plot(x,Theta,color='red')\n",
    "plt.xlabel(r'$x$', fontsize=12, labelpad=0.05)\n",
    "plt.ylabel(r'$\\theta$', fontsize=12, labelpad=0.05)\n",
    "plt.show\n"
   ]
  },
  {
   "cell_type": "markdown",
   "id": "b5affdf8-b432-477d-80f4-165fd38829af",
   "metadata": {},
   "source": [
    "Convection-diffusion equation along a rod. Thelength is L and $0<x<L$. \n",
    "The ODE equation is\n",
    "\\begin{equation}\n",
    "- A k\\frac{d^2 T}{d x^2}+P \\beta (T-T_0)=0\n",
    "\\end{equation}\n",
    "Boundary conditions:\\\n",
    "$\\theta(0)=300$ and $d \\theta/dx(L)=0$ "
   ]
  }
 ],
 "metadata": {
  "kernelspec": {
   "display_name": "Python 3 (ipykernel)",
   "language": "python",
   "name": "python3"
  },
  "language_info": {
   "codemirror_mode": {
    "name": "ipython",
    "version": 3
   },
   "file_extension": ".py",
   "mimetype": "text/x-python",
   "name": "python",
   "nbconvert_exporter": "python",
   "pygments_lexer": "ipython3",
   "version": "3.11.9"
  }
 },
 "nbformat": 4,
 "nbformat_minor": 5
}
